{
  "cells": [
    {
      "cell_type": "code",
      "execution_count": 1,
      "metadata": {
        "id": "X5ZwBdEKDIbB"
      },
      "outputs": [],
      "source": [
        "import os\n",
        "import gc\n",
        "import sys\n",
        "import glob\n",
        "import time\n",
        "import tqdm\n",
        "import pickle\n",
        "import numpy as np\n",
        "import pandas as pd\n",
        "import seaborn as sns\n",
        "import matplotlib.pyplot as plt"
      ]
    },
    {
      "cell_type": "code",
      "execution_count": 2,
      "metadata": {
        "colab": {
          "base_uri": "https://localhost:8080/",
          "height": 90
        },
        "id": "1hHVEc0c4Bbx",
        "outputId": "d534ea04-b7a1-4625-bc51-616378467d80"
      },
      "outputs": [
        {
          "output_type": "display_data",
          "data": {
            "text/plain": [
              "<IPython.core.display.HTML object>"
            ],
            "text/html": [
              "\n",
              "     <input type=\"file\" id=\"files-33c1d672-c238-4f11-9439-5b40fc7d364d\" name=\"files[]\" multiple disabled\n",
              "        style=\"border:none\" />\n",
              "     <output id=\"result-33c1d672-c238-4f11-9439-5b40fc7d364d\">\n",
              "      Upload widget is only available when the cell has been executed in the\n",
              "      current browser session. Please rerun this cell to enable.\n",
              "      </output>\n",
              "      <script>// Copyright 2017 Google LLC\n",
              "//\n",
              "// Licensed under the Apache License, Version 2.0 (the \"License\");\n",
              "// you may not use this file except in compliance with the License.\n",
              "// You may obtain a copy of the License at\n",
              "//\n",
              "//      http://www.apache.org/licenses/LICENSE-2.0\n",
              "//\n",
              "// Unless required by applicable law or agreed to in writing, software\n",
              "// distributed under the License is distributed on an \"AS IS\" BASIS,\n",
              "// WITHOUT WARRANTIES OR CONDITIONS OF ANY KIND, either express or implied.\n",
              "// See the License for the specific language governing permissions and\n",
              "// limitations under the License.\n",
              "\n",
              "/**\n",
              " * @fileoverview Helpers for google.colab Python module.\n",
              " */\n",
              "(function(scope) {\n",
              "function span(text, styleAttributes = {}) {\n",
              "  const element = document.createElement('span');\n",
              "  element.textContent = text;\n",
              "  for (const key of Object.keys(styleAttributes)) {\n",
              "    element.style[key] = styleAttributes[key];\n",
              "  }\n",
              "  return element;\n",
              "}\n",
              "\n",
              "// Max number of bytes which will be uploaded at a time.\n",
              "const MAX_PAYLOAD_SIZE = 100 * 1024;\n",
              "\n",
              "function _uploadFiles(inputId, outputId) {\n",
              "  const steps = uploadFilesStep(inputId, outputId);\n",
              "  const outputElement = document.getElementById(outputId);\n",
              "  // Cache steps on the outputElement to make it available for the next call\n",
              "  // to uploadFilesContinue from Python.\n",
              "  outputElement.steps = steps;\n",
              "\n",
              "  return _uploadFilesContinue(outputId);\n",
              "}\n",
              "\n",
              "// This is roughly an async generator (not supported in the browser yet),\n",
              "// where there are multiple asynchronous steps and the Python side is going\n",
              "// to poll for completion of each step.\n",
              "// This uses a Promise to block the python side on completion of each step,\n",
              "// then passes the result of the previous step as the input to the next step.\n",
              "function _uploadFilesContinue(outputId) {\n",
              "  const outputElement = document.getElementById(outputId);\n",
              "  const steps = outputElement.steps;\n",
              "\n",
              "  const next = steps.next(outputElement.lastPromiseValue);\n",
              "  return Promise.resolve(next.value.promise).then((value) => {\n",
              "    // Cache the last promise value to make it available to the next\n",
              "    // step of the generator.\n",
              "    outputElement.lastPromiseValue = value;\n",
              "    return next.value.response;\n",
              "  });\n",
              "}\n",
              "\n",
              "/**\n",
              " * Generator function which is called between each async step of the upload\n",
              " * process.\n",
              " * @param {string} inputId Element ID of the input file picker element.\n",
              " * @param {string} outputId Element ID of the output display.\n",
              " * @return {!Iterable<!Object>} Iterable of next steps.\n",
              " */\n",
              "function* uploadFilesStep(inputId, outputId) {\n",
              "  const inputElement = document.getElementById(inputId);\n",
              "  inputElement.disabled = false;\n",
              "\n",
              "  const outputElement = document.getElementById(outputId);\n",
              "  outputElement.innerHTML = '';\n",
              "\n",
              "  const pickedPromise = new Promise((resolve) => {\n",
              "    inputElement.addEventListener('change', (e) => {\n",
              "      resolve(e.target.files);\n",
              "    });\n",
              "  });\n",
              "\n",
              "  const cancel = document.createElement('button');\n",
              "  inputElement.parentElement.appendChild(cancel);\n",
              "  cancel.textContent = 'Cancel upload';\n",
              "  const cancelPromise = new Promise((resolve) => {\n",
              "    cancel.onclick = () => {\n",
              "      resolve(null);\n",
              "    };\n",
              "  });\n",
              "\n",
              "  // Wait for the user to pick the files.\n",
              "  const files = yield {\n",
              "    promise: Promise.race([pickedPromise, cancelPromise]),\n",
              "    response: {\n",
              "      action: 'starting',\n",
              "    }\n",
              "  };\n",
              "\n",
              "  cancel.remove();\n",
              "\n",
              "  // Disable the input element since further picks are not allowed.\n",
              "  inputElement.disabled = true;\n",
              "\n",
              "  if (!files) {\n",
              "    return {\n",
              "      response: {\n",
              "        action: 'complete',\n",
              "      }\n",
              "    };\n",
              "  }\n",
              "\n",
              "  for (const file of files) {\n",
              "    const li = document.createElement('li');\n",
              "    li.append(span(file.name, {fontWeight: 'bold'}));\n",
              "    li.append(span(\n",
              "        `(${file.type || 'n/a'}) - ${file.size} bytes, ` +\n",
              "        `last modified: ${\n",
              "            file.lastModifiedDate ? file.lastModifiedDate.toLocaleDateString() :\n",
              "                                    'n/a'} - `));\n",
              "    const percent = span('0% done');\n",
              "    li.appendChild(percent);\n",
              "\n",
              "    outputElement.appendChild(li);\n",
              "\n",
              "    const fileDataPromise = new Promise((resolve) => {\n",
              "      const reader = new FileReader();\n",
              "      reader.onload = (e) => {\n",
              "        resolve(e.target.result);\n",
              "      };\n",
              "      reader.readAsArrayBuffer(file);\n",
              "    });\n",
              "    // Wait for the data to be ready.\n",
              "    let fileData = yield {\n",
              "      promise: fileDataPromise,\n",
              "      response: {\n",
              "        action: 'continue',\n",
              "      }\n",
              "    };\n",
              "\n",
              "    // Use a chunked sending to avoid message size limits. See b/62115660.\n",
              "    let position = 0;\n",
              "    do {\n",
              "      const length = Math.min(fileData.byteLength - position, MAX_PAYLOAD_SIZE);\n",
              "      const chunk = new Uint8Array(fileData, position, length);\n",
              "      position += length;\n",
              "\n",
              "      const base64 = btoa(String.fromCharCode.apply(null, chunk));\n",
              "      yield {\n",
              "        response: {\n",
              "          action: 'append',\n",
              "          file: file.name,\n",
              "          data: base64,\n",
              "        },\n",
              "      };\n",
              "\n",
              "      let percentDone = fileData.byteLength === 0 ?\n",
              "          100 :\n",
              "          Math.round((position / fileData.byteLength) * 100);\n",
              "      percent.textContent = `${percentDone}% done`;\n",
              "\n",
              "    } while (position < fileData.byteLength);\n",
              "  }\n",
              "\n",
              "  // All done.\n",
              "  yield {\n",
              "    response: {\n",
              "      action: 'complete',\n",
              "    }\n",
              "  };\n",
              "}\n",
              "\n",
              "scope.google = scope.google || {};\n",
              "scope.google.colab = scope.google.colab || {};\n",
              "scope.google.colab._files = {\n",
              "  _uploadFiles,\n",
              "  _uploadFilesContinue,\n",
              "};\n",
              "})(self);\n",
              "</script> "
            ]
          },
          "metadata": {}
        },
        {
          "output_type": "stream",
          "name": "stdout",
          "text": [
            "Saving kaggle.json to kaggle.json\n"
          ]
        },
        {
          "output_type": "execute_result",
          "data": {
            "text/plain": [
              "{'kaggle.json': b'{\"username\":\"ashwinlokesh\",\"key\":\"a0f542285879f3ecca7ad1686fccbece\"}'}"
            ]
          },
          "metadata": {},
          "execution_count": 2
        }
      ],
      "source": [
        "from google.colab import files\n",
        "files.upload()"
      ]
    },
    {
      "cell_type": "code",
      "execution_count": 3,
      "metadata": {
        "id": "pukpmONVc6Sh"
      },
      "outputs": [],
      "source": [
        "! mkdir /root/.kaggle\n",
        "! cp kaggle.json /root/.kaggle/\n",
        "! chmod 600 /root/.kaggle/kaggle.json\n"
      ]
    },
    {
      "cell_type": "code",
      "execution_count": 4,
      "metadata": {
        "colab": {
          "base_uri": "https://localhost:8080/"
        },
        "id": "JsvjFwa-blwX",
        "outputId": "a4c8627e-30a5-434f-acec-9d2cb39a9d32"
      },
      "outputs": [
        {
          "output_type": "stream",
          "name": "stdout",
          "text": [
            "Downloading PLAsTiCC-2018.zip to /content\n",
            "100% 13.8G/13.8G [08:05<00:00, 29.1MB/s]\n",
            "100% 13.8G/13.8G [08:05<00:00, 30.4MB/s]\n"
          ]
        }
      ],
      "source": [
        "!kaggle competitions download -c PLAsTiCC-2018"
      ]
    },
    {
      "cell_type": "code",
      "execution_count": null,
      "metadata": {
        "colab": {
          "background_save": true
        },
        "id": "bXQQZggKe7Lz"
      },
      "outputs": [],
      "source": [
        "import zipfile\n",
        "\n",
        "with zipfile.ZipFile('/content/PLAsTiCC-2018.zip', 'r') as zip:\n",
        "    zip.extractall('/content/PLAsTiCC-2018')"
      ]
    },
    {
      "cell_type": "code",
      "execution_count": null,
      "metadata": {
        "colab": {
          "background_save": true
        },
        "id": "UTXTA-u2Focz",
        "outputId": "b66cefb2-b9df-4877-9d96-6f9eba43fa91"
      },
      "outputs": [
        {
          "data": {
            "text/plain": [
              "((7848, 12), (3492890, 11))"
            ]
          },
          "execution_count": 6,
          "metadata": {},
          "output_type": "execute_result"
        }
      ],
      "source": [
        "train = pd.read_csv('/content/PLAsTiCC-2018/training_set.csv')\n",
        "test = pd.read_csv('/content/PLAsTiCC-2018/test_set.csv')\n",
        "train_meta = pd.read_csv('/content/PLAsTiCC-2018/training_set_metadata.csv')\n",
        "test_meta = pd.read_csv('/content/PLAsTiCC-2018/test_set_metadata.csv')\n",
        "\n",
        "train_meta.shape, test_meta.shape"
      ]
    },
    {
      "cell_type": "code",
      "execution_count": null,
      "metadata": {
        "colab": {
          "base_uri": "https://localhost:8080/"
        },
        "id": "iOiPv9LprIOe",
        "outputId": "ec4276e4-86c9-4875-b957-e04c7fcf8ece"
      },
      "outputs": [
        {
          "name": "stdout",
          "output_type": "stream",
          "text": [
            "[0, 1, 2, 3, 4, 5, 6, 7, 8, 9, 10, 11, 12, 13]\n",
            "[0.01924057 0.06307339 0.117737   0.15201325 0.02331804 0.00382263\n",
            " 0.06167176 0.01299694 0.125      0.02650357 0.04714577 0.29472477\n",
            " 0.03045362 0.02229867]\n",
            "[1 2 1 1 1 1 1 2 1 1 1 1 1 1]\n"
          ]
        }
      ],
      "source": [
        "target = train_meta['target'].values.copy()\n",
        "labels2weight = {x:1 for x in np.unique(target)}\n",
        "train_mask = train_meta['distmod'].isnull().values #galactic\n",
        "test_mask  = test_meta['distmod'].isnull().values\n",
        "\n",
        "labels2weight[15] = 2\n",
        "labels2weight[64] = 2\n",
        "labels2weight[99] = 2\n",
        "\n",
        "import collections\n",
        "target2y = dict(map(reversed, enumerate(np.unique(target))))\n",
        "y2target = dict(enumerate(np.unique(target)))\n",
        "y = np.array(list(map(target2y.get, target)))\n",
        "class_weight = np.array(list(map(lambda x: labels2weight[y2target[x]], sorted(np.unique(y)))))\n",
        "y_cntr = collections.Counter(y)\n",
        "wtable = np.array([y_cntr[i] for i in sorted(np.unique(y))]) / len(y)\n",
        "\n",
        "print(sorted(np.unique(y)))\n",
        "print(wtable)\n",
        "print(class_weight)"
      ]
    },
    {
      "cell_type": "code",
      "execution_count": null,
      "metadata": {
        "id": "5mGhuF64rIOe"
      },
      "outputs": [],
      "source": [
        "from sklearn.model_selection import StratifiedKFold as KFold\n",
        "nfolds = 5\n",
        "kf = KFold(n_splits=nfolds, shuffle=True, random_state=42)\n",
        "cv_folds = np.arange(len(target))\n",
        "for i,_ in enumerate(kf.split(train_meta, target)):\n",
        "    cv_folds[_[1]] = i\n",
        "evals = pd.DataFrame()\n",
        "evals['object_id'] = train_meta['object_id']\n",
        "evals['target'] = target\n",
        "evals['cv_folds'] = cv_folds\n",
        "evals['is_gal'] = train_mask.astype('int')\n",
        "evals['is_ddf'] = train_meta['ddf'].values\n",
        "evals.to_csv('evals.csv', index=False)"
      ]
    },
    {
      "cell_type": "code",
      "execution_count": null,
      "metadata": {
        "id": "BuY4d_LlrIOe"
      },
      "outputs": [],
      "source": [
        "remove_cols = ['hostgal_specz', 'target']\n",
        "for c in remove_cols:\n",
        "    if c in train_meta.columns:\n",
        "        del train_meta[c]\n",
        "    if c in test_meta.columns:\n",
        "        del test_meta[c]"
      ]
    },
    {
      "cell_type": "code",
      "execution_count": null,
      "metadata": {
        "id": "MPh9-CX9rIOe"
      },
      "outputs": [],
      "source": [
        "train_meta['distmod'].fillna(0, inplace=True)\n",
        "test_meta['distmod'].fillna(0, inplace=True)"
      ]
    },
    {
      "cell_type": "code",
      "execution_count": null,
      "metadata": {
        "colab": {
          "base_uri": "https://localhost:8080/",
          "height": 1000
        },
        "id": "lrYt_ChkrIOf",
        "outputId": "892a8b05-54a9-4282-b8a2-91b6eddf3355"
      },
      "outputs": [
        {
          "name": "stderr",
          "output_type": "stream",
          "text": [
            "<ipython-input-13-e2707a93e715>:3: UserWarning: \n",
            "\n",
            "`distplot` is a deprecated function and will be removed in seaborn v0.14.0.\n",
            "\n",
            "Please adapt your code to use either `displot` (a figure-level function with\n",
            "similar flexibility) or `histplot` (an axes-level function for histograms).\n",
            "\n",
            "For a guide to updating your code to use the new functions, please see\n",
            "https://gist.github.com/mwaskom/de44147ed2974457ad6372750bbe5751\n",
            "\n",
            "  sns.distplot(train['flux'].sample(frac=0.1))\n",
            "<ipython-input-13-e2707a93e715>:7: UserWarning: \n",
            "\n",
            "`distplot` is a deprecated function and will be removed in seaborn v0.14.0.\n",
            "\n",
            "Please adapt your code to use either `displot` (a figure-level function with\n",
            "similar flexibility) or `histplot` (an axes-level function for histograms).\n",
            "\n",
            "For a guide to updating your code to use the new functions, please see\n",
            "https://gist.github.com/mwaskom/de44147ed2974457ad6372750bbe5751\n",
            "\n",
            "  sns.distplot(train['flux_err'].sample(frac=0.1))\n",
            "<ipython-input-13-e2707a93e715>:13: UserWarning: \n",
            "\n",
            "`distplot` is a deprecated function and will be removed in seaborn v0.14.0.\n",
            "\n",
            "Please adapt your code to use either `displot` (a figure-level function with\n",
            "similar flexibility) or `histplot` (an axes-level function for histograms).\n",
            "\n",
            "For a guide to updating your code to use the new functions, please see\n",
            "https://gist.github.com/mwaskom/de44147ed2974457ad6372750bbe5751\n",
            "\n",
            "  sns.distplot(train['flux'].sample(frac=0.1).apply(lambda x: np.sign(x) * np.log(np.abs(x))))\n",
            "<ipython-input-13-e2707a93e715>:17: UserWarning: \n",
            "\n",
            "`distplot` is a deprecated function and will be removed in seaborn v0.14.0.\n",
            "\n",
            "Please adapt your code to use either `displot` (a figure-level function with\n",
            "similar flexibility) or `histplot` (an axes-level function for histograms).\n",
            "\n",
            "For a guide to updating your code to use the new functions, please see\n",
            "https://gist.github.com/mwaskom/de44147ed2974457ad6372750bbe5751\n",
            "\n",
            "  sns.distplot(train['flux_err'].sample(frac=0.1).apply(lambda x: np.sign(x) * np.log(np.abs(x))))\n"
          ]
        },
        {
          "data": {
            "image/png": "[encoded data removed]",
            "text/plain": [
              "<Figure size 1080x360 with 2 Axes>"
            ]
          },
          "metadata": {},
          "output_type": "display_data"
        },
        {
          "data": {
            "image/png": "[encoded data removed]",
            "text/plain": [
              "<Figure size 1080x360 with 2 Axes>"
            ]
          },
          "metadata": {},
          "output_type": "display_data"
        }
      ],
      "source": [
        "plt.figure(figsize=[12, 4], dpi=90)\n",
        "plt.subplot(1, 2, 1)\n",
        "sns.distplot(train['flux'].sample(frac=0.1))\n",
        "plt.title('flux raw distribution')\n",
        "plt.grid()\n",
        "plt.subplot(1, 2, 2)\n",
        "sns.distplot(train['flux_err'].sample(frac=0.1))\n",
        "plt.title('flux_err raw distribution')\n",
        "plt.grid();\n",
        "\n",
        "plt.figure(figsize=[12, 4], dpi=90)\n",
        "plt.subplot(1, 2, 1)\n",
        "sns.distplot(train['flux'].sample(frac=0.1).apply(lambda x: np.sign(x) * np.log(np.abs(x))))\n",
        "plt.title('flux symlog distribution')\n",
        "plt.grid()\n",
        "plt.subplot(1, 2, 2)\n",
        "sns.distplot(train['flux_err'].sample(frac=0.1).apply(lambda x: np.sign(x) * np.log(np.abs(x))))\n",
        "plt.title('flux_err symlog distribution')\n",
        "plt.grid();"
      ]
    },
    {
      "cell_type": "code",
      "execution_count": null,
      "metadata": {
        "id": "dQOhTqzHrIOf"
      },
      "outputs": [],
      "source": [
        "for c in ['flux', 'flux_err']: \n",
        "    train[c] = train[c].apply(lambda x: np.sign(x) * np.log(np.abs(x)))\n",
        "c = 'mjd'\n",
        "train[c] = (train[c] - train[c].mean()) / train[c].std()"
      ]
    },
    {
      "cell_type": "code",
      "execution_count": null,
      "metadata": {
        "colab": {
          "base_uri": "https://localhost:8080/"
        },
        "id": "f2ExlnL7rIOf",
        "outputId": "58ecc9e1-01f5-497e-be3f-5108f01d30fc"
      },
      "outputs": [
        {
          "name": "stdout",
          "output_type": "stream",
          "text": [
            "CPU times: user 1min 4s, sys: 1.54 s, total: 1min 6s\n",
            "Wall time: 1min 5s\n"
          ]
        }
      ],
      "source": [
        "%%time\n",
        "train = train.groupby(['object_id', 'passband']).apply(\n",
        "    lambda x: x.set_index(['object_id', 'passband']).to_dict(orient='list')\n",
        ")\n",
        "train.to_pickle('train_ts.pkl')"
      ]
    },
    {
      "cell_type": "code",
      "execution_count": null,
      "metadata": {
        "id": "_5xpNI74rIOf"
      },
      "outputs": [],
      "source": [
        "print(train.loc[615, 0].keys())\n",
        "train.to_frame().head(12)"
      ]
    },
    {
      "cell_type": "code",
      "execution_count": null,
      "metadata": {
        "colab": {
          "base_uri": "https://localhost:8080/",
          "height": 238
        },
        "id": "krHFE9FbrIOf",
        "outputId": "b4ad9d72-a8b4-485f-ebb6-a83cb45a51d1"
      },
      "outputs": [
        {
          "data": {
            "text/html": [
              "\n",
              "  <div id=\"df-6bf75067-87c5-40f1-a107-726be2bf7830\">\n",
              "    <div class=\"colab-df-container\">\n",
              "      <div>\n",
              "<style scoped>\n",
              "    .dataframe tbody tr th:only-of-type {\n",
              "        vertical-align: middle;\n",
              "    }\n",
              "\n",
              "    .dataframe tbody tr th {\n",
              "        vertical-align: top;\n",
              "    }\n",
              "\n",
              "    .dataframe thead th {\n",
              "        text-align: right;\n",
              "    }\n",
              "</style>\n",
              "<table border=\"1\" class=\"dataframe\">\n",
              "  <thead>\n",
              "    <tr style=\"text-align: right;\">\n",
              "      <th></th>\n",
              "      <th>ra</th>\n",
              "      <th>decl</th>\n",
              "      <th>gal_l</th>\n",
              "      <th>gal_b</th>\n",
              "      <th>ddf</th>\n",
              "      <th>hostgal_photoz</th>\n",
              "      <th>hostgal_photoz_err</th>\n",
              "      <th>distmod</th>\n",
              "      <th>mwebv</th>\n",
              "    </tr>\n",
              "    <tr>\n",
              "      <th>object_id</th>\n",
              "      <th></th>\n",
              "      <th></th>\n",
              "      <th></th>\n",
              "      <th></th>\n",
              "      <th></th>\n",
              "      <th></th>\n",
              "      <th></th>\n",
              "      <th></th>\n",
              "      <th></th>\n",
              "    </tr>\n",
              "  </thead>\n",
              "  <tbody>\n",
              "    <tr>\n",
              "      <th>615</th>\n",
              "      <td>349.046051</td>\n",
              "      <td>-61.943836</td>\n",
              "      <td>320.796530</td>\n",
              "      <td>-51.753706</td>\n",
              "      <td>1</td>\n",
              "      <td>0.0000</td>\n",
              "      <td>0.0000</td>\n",
              "      <td>0.0000</td>\n",
              "      <td>0.017</td>\n",
              "    </tr>\n",
              "    <tr>\n",
              "      <th>713</th>\n",
              "      <td>53.085938</td>\n",
              "      <td>-27.784405</td>\n",
              "      <td>223.525509</td>\n",
              "      <td>-54.460748</td>\n",
              "      <td>1</td>\n",
              "      <td>1.6267</td>\n",
              "      <td>0.2552</td>\n",
              "      <td>45.4063</td>\n",
              "      <td>0.007</td>\n",
              "    </tr>\n",
              "    <tr>\n",
              "      <th>730</th>\n",
              "      <td>33.574219</td>\n",
              "      <td>-6.579593</td>\n",
              "      <td>170.455585</td>\n",
              "      <td>-61.548219</td>\n",
              "      <td>1</td>\n",
              "      <td>0.2262</td>\n",
              "      <td>0.0157</td>\n",
              "      <td>40.2561</td>\n",
              "      <td>0.021</td>\n",
              "    </tr>\n",
              "    <tr>\n",
              "      <th>745</th>\n",
              "      <td>0.189873</td>\n",
              "      <td>-45.586655</td>\n",
              "      <td>328.254458</td>\n",
              "      <td>-68.969298</td>\n",
              "      <td>1</td>\n",
              "      <td>0.2813</td>\n",
              "      <td>1.1523</td>\n",
              "      <td>40.7951</td>\n",
              "      <td>0.007</td>\n",
              "    </tr>\n",
              "    <tr>\n",
              "      <th>1124</th>\n",
              "      <td>352.711273</td>\n",
              "      <td>-63.823658</td>\n",
              "      <td>316.922299</td>\n",
              "      <td>-51.059403</td>\n",
              "      <td>1</td>\n",
              "      <td>0.2415</td>\n",
              "      <td>0.0176</td>\n",
              "      <td>40.4166</td>\n",
              "      <td>0.024</td>\n",
              "    </tr>\n",
              "  </tbody>\n",
              "</table>\n",
              "</div>\n",
              "      <button class=\"colab-df-convert\" onclick=\"convertToInteractive('df-6bf75067-87c5-40f1-a107-726be2bf7830')\"\n",
              "              title=\"Convert this dataframe to an interactive table.\"\n",
              "              style=\"display:none;\">\n",
              "        \n",
              "  <svg xmlns=\"http://www.w3.org/2000/svg\" height=\"24px\"viewBox=\"0 0 24 24\"\n",
              "       width=\"24px\">\n",
              "    <path d=\"M0 0h24v24H0V0z\" fill=\"none\"/>\n",
              "    <path d=\"M18.56 5.44l.94 2.06.94-2.06 2.06-.94-2.06-.94-.94-2.06-.94 2.06-2.06.94zm-11 1L8.5 8.5l.94-2.06 2.06-.94-2.06-.94L8.5 2.5l-.94 2.06-2.06.94zm10 10l.94 2.06.94-2.06 2.06-.94-2.06-.94-.94-2.06-.94 2.06-2.06.94z\"/><path d=\"M17.41 7.96l-1.37-1.37c-.4-.4-.92-.59-1.43-.59-.52 0-1.04.2-1.43.59L10.3 9.45l-7.72 7.72c-.78.78-.78 2.05 0 2.83L4 21.41c.39.39.9.59 1.41.59.51 0 1.02-.2 1.41-.59l7.78-7.78 2.81-2.81c.8-.78.8-2.07 0-2.86zM5.41 20L4 18.59l7.72-7.72 1.47 1.35L5.41 20z\"/>\n",
              "  </svg>\n",
              "      </button>\n",
              "      \n",
              "  <style>\n",
              "    .colab-df-container {\n",
              "      display:flex;\n",
              "      flex-wrap:wrap;\n",
              "      gap: 12px;\n",
              "    }\n",
              "\n",
              "    .colab-df-convert {\n",
              "      background-color: #E8F0FE;\n",
              "      border: none;\n",
              "      border-radius: 50%;\n",
              "      cursor: pointer;\n",
              "      display: none;\n",
              "      fill: #1967D2;\n",
              "      height: 32px;\n",
              "      padding: 0 0 0 0;\n",
              "      width: 32px;\n",
              "    }\n",
              "\n",
              "    .colab-df-convert:hover {\n",
              "      background-color: #E2EBFA;\n",
              "      box-shadow: 0px 1px 2px rgba(60, 64, 67, 0.3), 0px 1px 3px 1px rgba(60, 64, 67, 0.15);\n",
              "      fill: #174EA6;\n",
              "    }\n",
              "\n",
              "    [theme=dark] .colab-df-convert {\n",
              "      background-color: #3B4455;\n",
              "      fill: #D2E3FC;\n",
              "    }\n",
              "\n",
              "    [theme=dark] .colab-df-convert:hover {\n",
              "      background-color: #434B5C;\n",
              "      box-shadow: 0px 1px 3px 1px rgba(0, 0, 0, 0.15);\n",
              "      filter: drop-shadow(0px 1px 2px rgba(0, 0, 0, 0.3));\n",
              "      fill: #FFFFFF;\n",
              "    }\n",
              "  </style>\n",
              "\n",
              "      <script>\n",
              "        const buttonEl =\n",
              "          document.querySelector('#df-6bf75067-87c5-40f1-a107-726be2bf7830 button.colab-df-convert');\n",
              "        buttonEl.style.display =\n",
              "          google.colab.kernel.accessAllowed ? 'block' : 'none';\n",
              "\n",
              "        async function convertToInteractive(key) {\n",
              "          const element = document.querySelector('#df-6bf75067-87c5-40f1-a107-726be2bf7830');\n",
              "          const dataTable =\n",
              "            await google.colab.kernel.invokeFunction('convertToInteractive',\n",
              "                                                     [key], {});\n",
              "          if (!dataTable) return;\n",
              "\n",
              "          const docLinkHtml = 'Like what you see? Visit the ' +\n",
              "            '<a target=\"_blank\" href=https://colab.research.google.com/notebooks/data_table.ipynb>data table notebook</a>'\n",
              "            + ' to learn more about interactive tables.';\n",
              "          element.innerHTML = '';\n",
              "          dataTable['output_type'] = 'display_data';\n",
              "          await google.colab.output.renderOutput(dataTable, element);\n",
              "          const docLink = document.createElement('div');\n",
              "          docLink.innerHTML = docLinkHtml;\n",
              "          element.appendChild(docLink);\n",
              "        }\n",
              "      </script>\n",
              "    </div>\n",
              "  </div>\n",
              "  "
            ],
            "text/plain": [
              "                   ra       decl       gal_l      gal_b  ddf  hostgal_photoz  \\\n",
              "object_id                                                                      \n",
              "615        349.046051 -61.943836  320.796530 -51.753706    1          0.0000   \n",
              "713         53.085938 -27.784405  223.525509 -54.460748    1          1.6267   \n",
              "730         33.574219  -6.579593  170.455585 -61.548219    1          0.2262   \n",
              "745          0.189873 -45.586655  328.254458 -68.969298    1          0.2813   \n",
              "1124       352.711273 -63.823658  316.922299 -51.059403    1          0.2415   \n",
              "\n",
              "           hostgal_photoz_err  distmod  mwebv  \n",
              "object_id                                      \n",
              "615                    0.0000   0.0000  0.017  \n",
              "713                    0.2552  45.4063  0.007  \n",
              "730                    0.0157  40.2561  0.021  \n",
              "745                    1.1523  40.7951  0.007  \n",
              "1124                   0.0176  40.4166  0.024  "
            ]
          },
          "execution_count": 16,
          "metadata": {},
          "output_type": "execute_result"
        }
      ],
      "source": [
        "train_ids = train_meta['object_id'].values\n",
        "train_meta = train_meta.set_index('object_id')\n",
        "train_meta.head()"
      ]
    },
    {
      "cell_type": "code",
      "execution_count": null,
      "metadata": {
        "id": "wc_IUx_prIOf"
      },
      "outputs": [],
      "source": [
        "import torch\n",
        "import torch.nn as nn\n",
        "import torch.nn.functional as F\n",
        "from torch.autograd import Variable\n",
        "from torch.utils.data import Dataset, DataLoader\n",
        "\n",
        "device = torch.device(\"cuda:0\" if torch.cuda.is_available() else \"cpu\")"
      ]
    },
    {
      "cell_type": "code",
      "execution_count": null,
      "metadata": {
        "id": "BnvD6HIerIOg"
      },
      "outputs": [],
      "source": [
        "from torch.nn.utils.rnn import pack_padded_sequence, pad_packed_sequence, pad_sequence"
      ]
    },
    {
      "cell_type": "code",
      "execution_count": null,
      "metadata": {
        "id": "TSHKFFQurIOg"
      },
      "outputs": [],
      "source": [
        "meta_cols = []\n",
        "meta_cols+= ['ra', 'decl', 'gal_l', 'gal_b']\n",
        "meta_cols+= ['ddf', 'hostgal_photoz', 'hostgal_photoz_err', 'distmod', 'mwebv']\n",
        "\n",
        "def get_xs_by_idx(idx, data):\n",
        "    xs = [pd.DataFrame(data[idx, pb]).values for pb in range(6)]\n",
        "    return xs\n",
        "\n",
        "def get_meta_by_idx(idx, metadata):\n",
        "    return train_meta.loc[idx, meta_cols].values\n",
        "\n",
        "def get_ts_mt_by_ids(ids, tsdata, metadata):\n",
        "    ts = [[] for pb in range(6)]\n",
        "    mt = []\n",
        "    for _id in ids:\n",
        "        xs = get_xs_by_idx(_id, tsdata)\n",
        "        for i,x in enumerate(xs):\n",
        "            ts[i].append(x)\n",
        "        mt.append(get_meta_by_idx(_id, metadata))\n",
        "    return ts, mt"
      ]
    },
    {
      "cell_type": "code",
      "execution_count": null,
      "metadata": {
        "id": "yz28Z7NNrIOg"
      },
      "outputs": [],
      "source": [
        "valid_fold = 0\n",
        "\n",
        "num_class = int(y.max()+1)\n",
        "num_rnn_unit = 32\n",
        "num_rnn_layer = 2\n",
        "dropout_rnn = 0.25\n",
        "num_linear = 64\n",
        "\n",
        "lr = 0.0009\n",
        "weight_decay = 0\n",
        "\n",
        "epochs = 50\n",
        "batch_size = 128"
      ]
    },
    {
      "cell_type": "code",
      "execution_count": null,
      "metadata": {
        "id": "GPZeAUjXrIOg"
      },
      "outputs": [],
      "source": [
        "def softmax(x):\n",
        "    \"\"\"Compute softmax values for each sets of scores in x.\"\"\"\n",
        "    e_x = np.exp(x - np.max(x, 1).reshape(-1, 1))\n",
        "    return e_x / e_x.sum(axis=1).reshape(-1, 1)\n",
        "\n",
        "def loss_fn(preds, target, num_class=num_class, class_weight=class_weight, wtable=wtable):\n",
        "    class_weight = torch.from_numpy(class_weight).type(preds.type())\n",
        "    wtable = torch.from_numpy(wtable).type(preds.type())\n",
        "    y_ohe = torch.zeros(\n",
        "        target.size(0), num_class, requires_grad=False\n",
        "    ).type(preds.type()).scatter(1, target.reshape(-1, 1), 1)\n",
        "    preds = F.softmax(preds, dim=1)\n",
        "    preds = torch.clamp(preds, 1e-15, 1-1e-15)\n",
        "    prod = torch.sum(torch.log(preds) * y_ohe, dim=0)\n",
        "    prod = prod * class_weight / wtable / target.size(0)\n",
        "    loss = -torch.sum(prod) / torch.sum(class_weight)\n",
        "    return loss\n",
        "\n",
        "class EncoderRNN(nn.Module):\n",
        "    \n",
        "    def __init__(self, RNN=nn.GRU, use_cuda=torch.cuda.is_available()):\n",
        "        super(EncoderRNN, self).__init__()\n",
        "        self.use_cuda = use_cuda\n",
        "        self.rnn = RNN(\n",
        "            4, num_rnn_unit, num_rnn_layer, \n",
        "            batch_first=True, bidirectional=True, dropout=dropout_rnn\n",
        "        )\n",
        "        \n",
        "    def forward(self, li):\n",
        "        lens = [_.shape[0] for _ in li]\n",
        "        indices = np.argsort(lens)[::-1].tolist()\n",
        "        rev_ind = [indices.index(i) for i in range(len(indices))]\n",
        "        x = [torch.from_numpy(li[i]).float() for i in indices]\n",
        "        x = pad_sequence(x, batch_first=True)\n",
        "        x = Variable(x)\n",
        "        if self.use_cuda:\n",
        "            x = x.to(device)\n",
        "        input_lengths = [lens[i] for i in indices]\n",
        "        packed = pack_padded_sequence(x, input_lengths, batch_first=True)\n",
        "        ro,_ = self.rnn(packed)\n",
        "        ro,_ = pad_packed_sequence(ro, batch_first=True)\n",
        "        ro = torch.transpose(ro, 1, 2)\n",
        "        res = F.max_pool1d(ro, ro.size(2)).squeeze()\n",
        "        return res[rev_ind, :].contiguous()\n",
        "\n",
        "class Net(nn.Module):\n",
        "    \n",
        "    def __init__(self, \n",
        "                 use_cuda=torch.cuda.is_available(), \n",
        "                 num_class=num_class):\n",
        "        super(Net, self).__init__()\n",
        "        self.use_cuda = use_cuda\n",
        "        for i in range(6):\n",
        "            self.add_module(f't{i}', EncoderRNN(nn.GRU))\n",
        "        self.clf_in = num_rnn_unit * 2 * 6 + len(meta_cols)\n",
        "        self.clf_ts = nn.Sequential(\n",
        "            nn.BatchNorm1d(self.clf_in),\n",
        "            nn.Linear(self.clf_in, num_linear),\n",
        "            nn.BatchNorm1d(num_linear),\n",
        "            nn.ReLU(inplace=True),\n",
        "            nn.Linear(num_linear, num_linear),\n",
        "            nn.BatchNorm1d(num_linear),\n",
        "            nn.ReLU(inplace=True),\n",
        "            nn.Linear(num_linear, num_class)\n",
        "        )\n",
        "                \n",
        "    def forward(self, ts, m):\n",
        "        m = torch.from_numpy(np.array(m)).float()\n",
        "        m = Variable(m)\n",
        "        if self.use_cuda:\n",
        "            m = m.to(device)\n",
        "        x = torch.cat([getattr(self, f't{i}')(ts[i]) for i in range(len(ts))] + [m], 1)\n",
        "        logit = self.clf_ts(x)\n",
        "        return logit"
      ]
    },
    {
      "cell_type": "code",
      "execution_count": null,
      "metadata": {
        "colab": {
          "base_uri": "https://localhost:8080/"
        },
        "id": "bN_qUdT3rIOg",
        "outputId": "04be1169-be4b-4291-89d6-348db083b79f"
      },
      "outputs": [
        {
          "name": "stdout",
          "output_type": "stream",
          "text": [
            "Checking...\n",
            "by.type torch.LongTensor by.size torch.Size([128]) bx length: 6\n",
            "pred.size torch.Size([128, 14])\n",
            "loss tensor(2.1898, grad_fn=<DivBackward0>)\n"
          ]
        }
      ],
      "source": [
        "print('Checking...')\n",
        "indices = train_ids[:batch_size]\n",
        "bx, bm = get_ts_mt_by_ids(indices, train, train_meta)\n",
        "by = [y[idx] for idx in range(batch_size)]\n",
        "\n",
        "by = torch.LongTensor([y[idx] for idx in range(batch_size)])\n",
        "by = Variable(by).to(device)\n",
        "print('by.type', by.type(), 'by.size', by.size(), 'bx length:', len(bx))\n",
        "\n",
        "model = Net()\n",
        "model = model.to(device)\n",
        "pred = model(bx, bm)\n",
        "print('pred.size', pred.size())\n",
        "\n",
        "loss = loss_fn(pred, by)\n",
        "loss.backward()\n",
        "print('loss', loss)"
      ]
    },
    {
      "cell_type": "code",
      "execution_count": null,
      "metadata": {
        "id": "unXc3Qg8rIOg"
      },
      "outputs": [],
      "source": [
        "trn_ids = train_ids[cv_folds!=valid_fold]\n",
        "trn_lbl = y[cv_folds!=valid_fold]\n",
        "val_ids = train_ids[cv_folds==valid_fold]\n",
        "val_lbl = y[cv_folds==valid_fold]"
      ]
    },
    {
      "cell_type": "code",
      "execution_count": null,
      "metadata": {
        "colab": {
          "base_uri": "https://localhost:8080/"
        },
        "id": "laRFi8tXrIOh",
        "outputId": "cf92c15b-c332-4018-a32d-57240d798cfa"
      },
      "outputs": [
        {
          "name": "stdout",
          "output_type": "stream",
          "text": [
            "batch_size 128 epochs 50\n",
            "train_steps 50 valid_steps 13\n"
          ]
        }
      ],
      "source": [
        "class Dset(Dataset):\n",
        "    \n",
        "    def __init__(self, data_ids, labels):\n",
        "        super(Dset, self).__init__()\n",
        "        self.data_ids = data_ids\n",
        "        self.labels = labels\n",
        "        self._len = len(labels)\n",
        "    \n",
        "    def __len__(self):\n",
        "        return self._len\n",
        "    \n",
        "    def __getitem__(self, index):\n",
        "        idx = self.data_ids[index]\n",
        "        y_i = self.labels[index]\n",
        "        return idx, y_i\n",
        "    \n",
        "def collate_fn(batch, tsdata=train, metadata=train_meta):\n",
        "    indices = []\n",
        "    labels = []\n",
        "    for _ in batch:\n",
        "        indices.append(_[0])\n",
        "        labels.append(_[1])\n",
        "    bx, bm = get_ts_mt_by_ids(indices, tsdata, metadata)\n",
        "    by = torch.from_numpy(np.array(labels)).long()\n",
        "    return bx, bm, by\n",
        "\n",
        "train_steps = int(np.ceil(len(trn_ids) / batch_size))\n",
        "valid_steps = int(np.ceil(len(val_ids) / batch_size))\n",
        "\n",
        "train_set = Dset(trn_ids, trn_lbl)\n",
        "valid_set = Dset(val_ids, val_lbl)\n",
        "train_loader = DataLoader(train_set, batch_size, shuffle=True, collate_fn=collate_fn)\n",
        "valid_loader = DataLoader(valid_set, batch_size, shuffle=False, collate_fn=collate_fn)\n",
        "\n",
        "print('batch_size', batch_size, 'epochs', epochs)\n",
        "print('train_steps', train_steps, 'valid_steps', valid_steps)"
      ]
    },
    {
      "cell_type": "code",
      "execution_count": null,
      "metadata": {
        "id": "IpnS1bDarIOh"
      },
      "outputs": [],
      "source": [
        "torch.cuda.empty_cache()\n",
        "model = Net()\n",
        "model = model.to(device)\n",
        "\n",
        "optimizer = torch.optim.Adam(model.parameters(), lr=lr, weight_decay=weight_decay)\n",
        "\n",
        "loss_li = []\n",
        "val_loss_li = []\n",
        "\n",
        "val_loss = None\n",
        "pred_val = None"
      ]
    },
    {
      "cell_type": "code",
      "execution_count": null,
      "metadata": {
        "id": "ySvDV3J2rIOh"
      },
      "outputs": [],
      "source": [
        "verbose = False"
      ]
    },
    {
      "cell_type": "code",
      "execution_count": null,
      "metadata": {
        "colab": {
          "base_uri": "https://localhost:8080/",
          "height": 415
        },
        "id": "1GqLlyYNrIOh",
        "outputId": "17c5c6df-5640-41ea-d9b9-7ec9b57fec41"
      },
      "outputs": [
        {
          "name": "stdout",
          "output_type": "stream",
          "text": [
            "Training epoch 1\n"
          ]
        },
        {
          "ename": "KeyboardInterrupt",
          "evalue": "ignored",
          "output_type": "error",
          "traceback": [
            "\u001b[0;31m---------------------------------------------------------------------------\u001b[0m",
            "\u001b[0;31mKeyboardInterrupt\u001b[0m                         Traceback (most recent call last)",
            "\u001b[0;32m<ipython-input-28-9b7dc400bbc1>\u001b[0m in \u001b[0;36m<cell line: 1>\u001b[0;34m()\u001b[0m\n\u001b[1;32m     12\u001b[0m         \u001b[0moptimizer\u001b[0m\u001b[0;34m.\u001b[0m\u001b[0mzero_grad\u001b[0m\u001b[0;34m(\u001b[0m\u001b[0;34m)\u001b[0m\u001b[0;34m\u001b[0m\u001b[0;34m\u001b[0m\u001b[0m\n\u001b[1;32m     13\u001b[0m         \u001b[0mloss\u001b[0m \u001b[0;34m=\u001b[0m \u001b[0mloss_fn\u001b[0m\u001b[0;34m(\u001b[0m\u001b[0mpred\u001b[0m\u001b[0;34m,\u001b[0m \u001b[0mby\u001b[0m\u001b[0;34m)\u001b[0m\u001b[0;34m\u001b[0m\u001b[0;34m\u001b[0m\u001b[0m\n\u001b[0;32m---> 14\u001b[0;31m         \u001b[0mloss\u001b[0m\u001b[0;34m.\u001b[0m\u001b[0mbackward\u001b[0m\u001b[0;34m(\u001b[0m\u001b[0;34m)\u001b[0m\u001b[0;34m\u001b[0m\u001b[0;34m\u001b[0m\u001b[0m\n\u001b[0m\u001b[1;32m     15\u001b[0m         \u001b[0moptimizer\u001b[0m\u001b[0;34m.\u001b[0m\u001b[0mstep\u001b[0m\u001b[0;34m(\u001b[0m\u001b[0;34m)\u001b[0m\u001b[0;34m\u001b[0m\u001b[0;34m\u001b[0m\u001b[0m\n\u001b[1;32m     16\u001b[0m         \u001b[0mlosses\u001b[0m \u001b[0;34m+=\u001b[0m \u001b[0mfloat\u001b[0m\u001b[0;34m(\u001b[0m\u001b[0mloss\u001b[0m\u001b[0;34m)\u001b[0m \u001b[0;34m*\u001b[0m \u001b[0mint\u001b[0m\u001b[0;34m(\u001b[0m\u001b[0mby\u001b[0m\u001b[0;34m.\u001b[0m\u001b[0msize\u001b[0m\u001b[0;34m(\u001b[0m\u001b[0;36m0\u001b[0m\u001b[0;34m)\u001b[0m\u001b[0;34m)\u001b[0m\u001b[0;34m\u001b[0m\u001b[0;34m\u001b[0m\u001b[0m\n",
            "\u001b[0;32m/usr/local/lib/python3.9/dist-packages/torch/_tensor.py\u001b[0m in \u001b[0;36mbackward\u001b[0;34m(self, gradient, retain_graph, create_graph, inputs)\u001b[0m\n\u001b[1;32m    485\u001b[0m                 \u001b[0minputs\u001b[0m\u001b[0;34m=\u001b[0m\u001b[0minputs\u001b[0m\u001b[0;34m,\u001b[0m\u001b[0;34m\u001b[0m\u001b[0;34m\u001b[0m\u001b[0m\n\u001b[1;32m    486\u001b[0m             )\n\u001b[0;32m--> 487\u001b[0;31m         torch.autograd.backward(\n\u001b[0m\u001b[1;32m    488\u001b[0m             \u001b[0mself\u001b[0m\u001b[0;34m,\u001b[0m \u001b[0mgradient\u001b[0m\u001b[0;34m,\u001b[0m \u001b[0mretain_graph\u001b[0m\u001b[0;34m,\u001b[0m \u001b[0mcreate_graph\u001b[0m\u001b[0;34m,\u001b[0m \u001b[0minputs\u001b[0m\u001b[0;34m=\u001b[0m\u001b[0minputs\u001b[0m\u001b[0;34m\u001b[0m\u001b[0;34m\u001b[0m\u001b[0m\n\u001b[1;32m    489\u001b[0m         )\n",
            "\u001b[0;32m/usr/local/lib/python3.9/dist-packages/torch/autograd/__init__.py\u001b[0m in \u001b[0;36mbackward\u001b[0;34m(tensors, grad_tensors, retain_graph, create_graph, grad_variables, inputs)\u001b[0m\n\u001b[1;32m    198\u001b[0m     \u001b[0;31m# some Python versions print out the first line of a multi-line function\u001b[0m\u001b[0;34m\u001b[0m\u001b[0;34m\u001b[0m\u001b[0m\n\u001b[1;32m    199\u001b[0m     \u001b[0;31m# calls in the traceback and some print out the last line\u001b[0m\u001b[0;34m\u001b[0m\u001b[0;34m\u001b[0m\u001b[0m\n\u001b[0;32m--> 200\u001b[0;31m     Variable._execution_engine.run_backward(  # Calls into the C++ engine to run the backward pass\n\u001b[0m\u001b[1;32m    201\u001b[0m         \u001b[0mtensors\u001b[0m\u001b[0;34m,\u001b[0m \u001b[0mgrad_tensors_\u001b[0m\u001b[0;34m,\u001b[0m \u001b[0mretain_graph\u001b[0m\u001b[0;34m,\u001b[0m \u001b[0mcreate_graph\u001b[0m\u001b[0;34m,\u001b[0m \u001b[0minputs\u001b[0m\u001b[0;34m,\u001b[0m\u001b[0;34m\u001b[0m\u001b[0;34m\u001b[0m\u001b[0m\n\u001b[1;32m    202\u001b[0m         allow_unreachable=True, accumulate_grad=True)  # Calls into the C++ engine to run the backward pass\n",
            "\u001b[0;31mKeyboardInterrupt\u001b[0m: "
          ]
        }
      ],
      "source": [
        "for epoch_i in range(epochs):\n",
        "    print(f'Training epoch {epoch_i+1}')\n",
        "    \n",
        "    t0 = time.time()\n",
        "    gen = train_loader if not verbose else tqdm.tqdm_notebook(train_loader, total=train_steps)\n",
        "    losses = 0\n",
        "    \n",
        "    for bx,bm,by in gen:\n",
        "        model.train()\n",
        "        by = Variable(by).to(device)\n",
        "        pred = model(bx, bm)\n",
        "        optimizer.zero_grad()\n",
        "        loss = loss_fn(pred, by)\n",
        "        loss.backward()\n",
        "        optimizer.step()\n",
        "        losses += float(loss) * int(by.size(0))\n",
        "    losses = losses / len(train_loader.dataset.labels)\n",
        "    loss_li.append(losses)\n",
        "    \n",
        "    y_true = []\n",
        "    y_pred = []\n",
        "    losses = 0\n",
        "    for bx,bm,by in valid_loader:\n",
        "        model.eval()\n",
        "        y_true.extend(by.numpy())\n",
        "        by = Variable(by).to(device)\n",
        "        pred = model(bx, bm)\n",
        "        loss = loss_fn(pred, by)\n",
        "        y_pred.extend(pred.cpu().data.numpy())\n",
        "        losses += float(loss) * int(by.size(0))\n",
        "    \n",
        "    losses = losses / len(valid_loader.dataset.labels)\n",
        "    y_true = np.stack(y_true)\n",
        "    y_pred = np.stack(y_pred)\n",
        "    \n",
        "    star = ' '\n",
        "    if val_loss is None:\n",
        "        pred_val = y_pred.copy()\n",
        "        val_loss = losses\n",
        "        star = '*'\n",
        "    elif losses < val_loss:\n",
        "        pred_val = y_pred.copy()\n",
        "        val_loss = losses\n",
        "        star = '*'\n",
        "    else:\n",
        "        pass\n",
        "    val_loss_li.append(losses)\n",
        "    toc = time.time() - t0\n",
        "    print(f'Epoch {epoch_i+1:>2} | valid loss {val_loss_li[-1]:.4f}{star} in {toc:.2f} sec')"
      ]
    },
    {
      "cell_type": "code",
      "execution_count": null,
      "metadata": {
        "id": "IUSqC3BnrIOh"
      },
      "outputs": [],
      "source": [
        "plt.figure(figsize=[6, 4], dpi=90)\n",
        "plt.plot(loss_li)\n",
        "plt.plot(val_loss_li)\n",
        "plt.grid()\n",
        "plt.legend(['train', 'valid']);"
      ]
    },
    {
      "cell_type": "code",
      "execution_count": null,
      "metadata": {
        "id": "coynypuCrIOh"
      },
      "outputs": [],
      "source": [
        "'''\n",
        "https://scikit-learn.org/stable/auto_examples/model_selection/plot_confusion_matrix.html\n",
        "'''\n",
        "from sklearn.metrics import confusion_matrix\n",
        "import itertools\n",
        "def plot_confusion_matrix(cm, classes,\n",
        "                          normalize=True,\n",
        "                          title='Confusion matrix',\n",
        "                          cmap=plt.cm.Blues):\n",
        "    \"\"\"\n",
        "    This function prints and plots the confusion matrix.\n",
        "    Normalization can be applied by setting `normalize=True`.\n",
        "    \"\"\"\n",
        "    if normalize:\n",
        "        cm = cm.astype('float') / cm.sum(axis=1)[:, np.newaxis]\n",
        "        print(\"Normalized confusion matrix\")\n",
        "    else:\n",
        "        print('Confusion matrix, without normalization')\n",
        "    #print(cm)\n",
        "    plt.figure(figsize=[10, 8], dpi=90)\n",
        "    plt.imshow(cm, interpolation='nearest', cmap=cmap)\n",
        "    plt.title(title)\n",
        "    plt.colorbar()\n",
        "    tick_marks = np.arange(len(classes))\n",
        "    plt.xticks(tick_marks, classes, rotation=45)\n",
        "    plt.yticks(tick_marks, classes)\n",
        "\n",
        "    fmt = '.2f' if normalize else 'd'\n",
        "    thresh = cm.max() / 2.\n",
        "    for i, j in itertools.product(range(cm.shape[0]), range(cm.shape[1])):\n",
        "        plt.text(j, i, format(cm[i, j], fmt),\n",
        "                 horizontalalignment=\"center\",\n",
        "                 color=\"white\" if cm[i, j] > thresh else \"black\")\n",
        "\n",
        "    plt.ylabel('True label')\n",
        "    plt.xlabel('Predicted label')\n",
        "    plt.tight_layout();\n",
        "    \n",
        "pred_val_lbl = np.argmax(softmax(pred_val), axis=1)\n",
        "classes = list(target2y.keys())\n",
        "cm = confusion_matrix(y_true, pred_val_lbl)\n",
        "plot_confusion_matrix(cm, classes)"
      ]
    },
    {
      "cell_type": "code",
      "execution_count": null,
      "metadata": {
        "id": "ilfFS4BqrIOi"
      },
      "outputs": [],
      "source": []
    }
  ],
  "metadata": {
    "accelerator": "GPU",
    "colab": {
      "provenance": []
    },
    "gpuClass": "standard",
    "kernelspec": {
      "display_name": "Python 3",
      "language": "python",
      "name": "python3"
    },
    "language_info": {
      "codemirror_mode": {
        "name": "ipython",
        "version": 3
      },
      "file_extension": ".py",
      "mimetype": "text/x-python",
      "name": "python",
      "nbconvert_exporter": "python",
      "pygments_lexer": "ipython3",
      "version": "3.6.6"
    }
  },
  "nbformat": 4,
  "nbformat_minor": 0
}